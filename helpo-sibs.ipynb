{
 "cells": [
  {
   "cell_type": "code",
   "execution_count": 3,
   "metadata": {},
   "outputs": [],
   "source": [
    "import pandas as pd\n",
    "from datetime import datetime\n",
    "from pandas import ExcelWriter\n",
    "import gspread\n",
    "# from pydrive.auth import GoogleAuth\n",
    "# from pydrive.drive import GoogleDrive\n",
    "from apiclient import discovery\n",
    "from apiclient.http import MediaFileUpload\n",
    "# from oauth2client.service_account import ServiceAccountCredentials\n",
    "from google.oauth2 import service_account\n",
    "import googleapiclient.discovery\n",
    "\n",
    "import sa_drive as drive"
   ]
  },
  {
   "cell_type": "markdown",
   "metadata": {},
   "source": [
    "\"sa_drive\" module does all the interaction with Google Drive API Using Service Account to authenticate.\n",
    "\n",
    "Note: A service Account acts as a \"normal\" Gsuite account, which means it has it's own \"drive space\", so you need to share the files or directories you want \"service account\" to see.\n",
    "\n",
    "You can access Gsuite information in two ways:\n",
    "\n",
    "service accounts (using SAs)\n",
    "user accounts (using Oauth)\n",
    "We use in this example Service Accounts because we want to use Cloud Function to be triggered without user input, which happens with Oauth (requires user browser authentication)"
   ]
  },
  {
   "cell_type": "code",
   "execution_count": 4,
   "metadata": {},
   "outputs": [
    {
     "name": "stdout",
     "output_type": "stream",
     "text": "100\n[{'id': '1O54W07mPZPYczdfJQeG7FXwupE0otY88', 'name': '201902070162.inp'}, {'id': '1VTGLRGjqjEAuoWruBkqh2xfpZrQtm8py', 'name': '201902050161.inp'}, {'id': '1kbUCO4nAZd3pbeG5jLEJ1z2JxMVcEo19', 'name': '201902230165.inp'}, {'id': '19LRfoX_9MR7j1_vYJTkO8F6FiRDO9QIw', 'name': '201902250166.inp'}, {'id': '1XuMEFcqGz3sLnee0Wyn_7fB9merx1pj9', 'name': '201902220164.inp'}, {'id': '1Nx5_ksyvktyDuSqzo4mANwteM9wFBRbq', 'name': '201902210163.inp'}, {'id': '1AvYWK2saprGgEdu9H8jIG4NJZU-Jqj6r', 'name': '201904010184.inp'}, {'id': '1K--x7Om76SDvYrDwOiWOrlIfKg22hmy3', 'name': '201903030167.inp'}, {'id': '1X8qGdltISxaJHPmCtplHyeWiEk7nDup8', 'name': '201903040168.inp'}, {'id': '14PGJEHyns_W1ke0Bj5OLEvb9WYmwRm7D', 'name': '201904020185.inp'}, {'id': '13eFoQgR9MDwU4b_G1BCuS-86S6eE81FD', 'name': '201903120170.inp'}, {'id': '1MIgDZod59hg5gBjJJPk1A8DIhVOK5CUv', 'name': '201904030186.inp'}, {'id': '1ngXpfyrp6dOEHsMxGRAhSNeTVgyPnthK', 'name': '201903080169.inp'}, {'id': '1hMyHm_DllFQOYQd3_H9up6OSmHIh5Bpy', 'name': '201903300183.inp'}, {'id': '1MQjSCPutlSxx8ag4oohNol27MW7H5JTB', 'name': '201903290182.inp'}, {'id': '1aB2glWIVgdYd1eYbwqrtEdcMzKCy2hk3', 'name': '201903280181.inp'}, {'id': '17JzVd7mrdabnm8HdgbOdtOXb2jgVfiZS', 'name': '201903220175.inp'}, {'id': '1GDP1CAqGzJnlol8z1RvU2gAGzl_aGf9k', 'name': '201903200173.inp'}, {'id': '1tH1BwcRDUkK69xiTzJ4JEPHaDrTGtVb4', 'name': '201903210174.inp'}, {'id': '1Gdni3hsFxvWg9muGHpCIyumX74gjGuwv', 'name': '201903230176.inp'}, {'id': '1_BxtiePwZ7Jq4a0H_QINw3uQIhUQizfZ', 'name': '201903270180.inp'}, {'id': '1d8PNd4kICxQ_XGGuv257vAbx8xMKft4Q', 'name': '201903170172.inp'}, {'id': '1MFy5eCNBj7hfWLkw8JNlNnzxeUUnVlL9', 'name': '201903250178.inp'}, {'id': '1vVmy_uRG6-ao6X7cFhhQLn8V9ILNJy8g', 'name': '201903240177.inp'}, {'id': '16ED5vBujtCDxUJHZglDKaahelyI8f7qD', 'name': '201903260179.inp'}, {'id': '1D2S7eoctGMhfcveUvs6Uv7ZyBh0b0a8c', 'name': '201903150171.inp'}, {'id': '1TFcyMgdfKovJ8zydqsOgo2RvaVAMoBsS', 'name': '201904140193.inp'}, {'id': '1fw813P4X0DWIWE6c0D3g2g986VRSCnj9', 'name': '201904120192.inp'}, {'id': '1WP6z745qoSSAmDbMr4HNM1PPUf01eYQC', 'name': '201904040187.inp'}, {'id': '1qiXnxR9dTnc4vXyBI3L6Wx4pVfeMxo_S', 'name': '201904050188.inp'}, {'id': '15TF4Zx7iKzR0Pux14O-FHs02iNE8DOvx', 'name': '201904060189.inp'}, {'id': '1d8KKSm-7xfwahaYBbj47LI88VeUwd1hu', 'name': '201905030200.inp'}, {'id': '1WdEt3JfMoFCmsYVXx01ztj-qM5XGGNDo', 'name': '201905040201.inp'}, {'id': '1-VqzZj3J9TuPxFyH01Q-RnFprcxfUSDH', 'name': '201904110191.inp'}, {'id': '14WnL7WSA1-xN0h89OXXsXwRMPXJ4f-To', 'name': '201904300199.inp'}, {'id': '1a2XXWulFheO5i55nakOwtiLVu6ZzWnvr', 'name': '201905050202.inp'}, {'id': '1zEncR7DQ6mepk2ugeTwbNRxTEZxIZ_L0', 'name': '201904080190.inp'}, {'id': '1QyH1Q7_-EwB52QDBMyQLPnOfOY0t9BZH', 'name': '201904280198.inp'}, {'id': '1p5027PUB6H0qkMhdEZYJEVLlNGlkjl4H', 'name': '201904260196.inp'}, {'id': '1pkC4c3x0RlgRwjzMIUYueCYkQotuehm0', 'name': '201904270197.inp'}, {'id': '1Il2rYWK7bwl0eQ0xWcD73n3E-kK3n3mw', 'name': '201906030216.inp'}, {'id': '1K_s2ei2DS6UMA5MXXfmDfxk3JhFtO5Vf', 'name': '201905210210.inp'}, {'id': '1SmsbQQVU3KCwdr3EALTnBY2K-9TuGGOx', 'name': '201905230211.inp'}, {'id': '1uqbxSlxBCFOeLXzmudsK5VDGXtwr2pCp', 'name': '201905280213.inp'}, {'id': '1yVPEw-xZ9n-YLVeTGthTabK0gR6xcV9b', 'name': '201905260212.inp'}, {'id': '1zoys8uYHsywQUr2KqJqHZhSLIFCBHgtt', 'name': '201905310214.inp'}, {'id': '1wfZ_43awBjQEEYoe4SA-56B47SHeGP-e', 'name': '201906010215.inp'}, {'id': '1XdppXaj3xm9930tqbb-dmFeLF1hWTtgs', 'name': '201904240195.inp'}, {'id': '1MCK6XO90JjKcFmCqy6QFklbUVW6xwlCi', 'name': '201905190209.inp'}, {'id': '10UM3xPtVzBCAgiSqORXEm8HVWy0EKgLu', 'name': '201904200194.inp'}, {'id': '1d7DMovVb5zg9HtNY3-yEHW6k3JcbRrky', 'name': '201905160208.inp'}, {'id': '1IdQX-W0mVAUhGnddIZb_mgV2aGOEEvnS', 'name': '201905140207.inp'}, {'id': '1PFJNEDuAcgZyke-212gNH4HNOH_fp0zO', 'name': '201906180223.inp'}, {'id': '1d6rHbGM3zCXuL3pD7soxWy4Ya4JWPm0X', 'name': '201905110206.inp'}, {'id': '1E0bp-htQBD6hHr8PwLFsfOXhHUoWpKWx', 'name': '201905100205.inp'}, {'id': '1rBnZQyHrKUdTnkv-Pjp-HkxDOUn-SIng', 'name': '201906160222.inp'}, {'id': '1wXBf6T8mBCKhGTf4-fPij348dmHRODS0', 'name': '201906140221.inp'}, {'id': '1wwW59am9pbyEXpzRFBlVkpmBjB5Ns73X', 'name': '201905090204.inp'}, {'id': '1_LOKwyetM-VJvmen6p654hBmMYEsRNov', 'name': '201905070203.inp'}, {'id': '19PhOQwRDIcibFepcYQ-vu2UGL5zdjaby', 'name': '201906130220.inp'}, {'id': '18n9DsiqyawqDPXEy5Goxe6QbfZTEJyOz', 'name': '201906080219.inp'}, {'id': '1Mr7sYBh3aNFKXJhrvOWFkmbzI04CPU-t', 'name': '201906050218.inp'}, {'id': '13MucckB24oUzCMm1tvJLkwX13Oa0aToR', 'name': '201907010229.inp'}, {'id': '1D4NoVWh-uZo6ejjZ83eyqYDxLCxLa9gv', 'name': '201907150235.inp'}, {'id': '1J-dwHPZ4dLonIVUBzwIytMwB3znTM2BK', 'name': '201906250227.inp'}, {'id': '1joWsO2YFk7mvFG_nZHerVw7k3DbwpZNQ', 'name': '201906210224.inp'}, {'id': '1LUt0nuB2DedHosxfaGNo2Rye93m7lwkw', 'name': '201906220225.inp'}, {'id': '1Bi4NshGmBj5Pv_7xHKRZYBA9uKohh6Wq', 'name': '201907080233.inp'}, {'id': '1mBZa0Va6RRv7_BxlTD56JN4mIuI6a0dS', 'name': '201906260228.inp'}, {'id': '13Q8W9raM3EDm6V6B9SKqpa7oTt0aFH3b', 'name': '201906230226.inp'}, {'id': '1dRZncxJEByGyiXNCST5QT4T14YeVEDTk', 'name': '201906040217.inp'}, {'id': '1X2uMGvvsxxGhPO2Flp0a3Djdq1KEB39D', 'name': '201907110234.inp'}, {'id': '1Z7oK0xltQ3tg651ze8Z37WZjpLGxTw_9', 'name': '201907060232.inp'}, {'id': '1YiZd8EnWOQn26eJj0pQuCT99gz7Wc7VU', 'name': '201907040231.inp'}, {'id': '1l-uIHTDb6fWJ0JGm0iFU8KpiiPzU4N9O', 'name': '201907170236.inp'}, {'id': '1RofZpGp43oN6qwrShS6DqEY8ghSzMOFx', 'name': '201907260242.inp'}, {'id': '1uhqtEOyaKdFAgDKGfRpyPu5q5WVPrZLK', 'name': '201907230240.inp'}, {'id': '1YBRlSF73gk9JMMdPM2oEliZ-URfQeUMx', 'name': '201907190237.inp'}, {'id': '1zl181DiyWhfBQdLOkbC2Hu6JtjmlbEXj', 'name': '201907200238.inp'}, {'id': '11NcOw7jbzsujc09iKlmGDNUHSxqtjb17', 'name': '201907250241.inp'}, {'id': '1v6OcqsBW4Si661MvF_VUFfWYi05fP4CX', 'name': '201907210239.inp'}, {'id': '1_TCPghJZUMdxhOeOnZTBBgbediw71k6P', 'name': '201907300243.inp'}, {'id': '1GCkjUIx2ZtfI5mwyogPLQKnMDGimUkDP', 'name': '201908140247.inp'}, {'id': '1u_kSgK5lthJKm1qYzh60JEtQnOLgxqjK', 'name': '201907020230.inp'}, {'id': '1-XZXqGmlb93dGiGedeE2l8K_9Rkhbqgv', 'name': '201908120246.inp'}, {'id': '1Bkff6MrzA3anjUq030S5vswPFDU4PZ8H', 'name': '201908240248.inp'}, {'id': '1GV1q7TRa-aCW4G1Zql10w0j8XcoBEHJQ', 'name': '201909130257.inp'}, {'id': '1vEsy2Sz5q8qqsPf70gNWBOoT3YZeRZtT', 'name': '201908290251.inp'}, {'id': '1sprMsV3qY6bK5QtIEyFOhPH-r1kqUj35', 'name': '201909120256.inp'}, {'id': '1iQv1H47Dhl0K8AsVtSslPTrsxPvzWq3d', 'name': '201908280250.inp'}, {'id': '11Bi55PbtQV_yVbFdSbtUR9QuQ80SSGSw', 'name': '201908020244.inp'}, {'id': '1xZfuAeFQHU3EwzH9WF1MCv5eHfWyPn-r', 'name': '201908270249.inp'}, {'id': '12WDEbjAHKtU4am7C1d_Hp7QH-xZ5dHQs', 'name': '201908110245.inp'}, {'id': '1IX5GfayqsfoTBNgYBjKRTcpajKO65fSI', 'name': '201909050255.inp'}, {'id': '1MsJWwM_sZ_HCZhc-rK5xDFrb9TSp0Ml7', 'name': '201909040254.inp'}, {'id': '1P5---07TQHACinHnMHDH3HPjao8sXLMi', 'name': '201908310253.inp'}, {'id': '18H0aOP187rfjT7YLhtoKMqvHO62_brup', 'name': '201910280269.inp'}, {'id': '1_B0D5tPdZ5PI5gsXiFyJMhE9_n30QVIC', 'name': '201910070263.inp'}, {'id': '1AXUCi6BFMtYmJu2hxN3ZjXaAtlUqK09B', 'name': '201909270260.inp'}, {'id': '1J7IQgmOHa9TA33ZiKM-II9T_3AQiX53w', 'name': '201910020262.inp'}]\n"
    }
   ],
   "source": [
    "files = drive.get_sibs_files()\n",
    "print(len(files))\n",
    "print(files)"
   ]
  },
  {
   "cell_type": "code",
   "execution_count": 5,
   "metadata": {},
   "outputs": [
    {
     "name": "stdout",
     "output_type": "stream",
     "text": "<class 'list'>\n"
    },
    {
     "ename": "AttributeError",
     "evalue": "module 'pandas' has no attribute 'Dataframe'",
     "output_type": "error",
     "traceback": [
      "\u001b[0;31m---------------------------------------------------------------------------\u001b[0m",
      "\u001b[0;31mAttributeError\u001b[0m                            Traceback (most recent call last)",
      "\u001b[0;32m<ipython-input-5-d9123faa32cb>\u001b[0m in \u001b[0;36m<module>\u001b[0;34m\u001b[0m\n\u001b[1;32m      1\u001b[0m \u001b[0;31m# df = pd.Dataframe(list(files.items()),columns = ['id', 'name'])\u001b[0m\u001b[0;34m\u001b[0m\u001b[0;34m\u001b[0m\u001b[0;34m\u001b[0m\u001b[0m\n\u001b[1;32m      2\u001b[0m \u001b[0mprint\u001b[0m\u001b[0;34m(\u001b[0m\u001b[0mtype\u001b[0m\u001b[0;34m(\u001b[0m\u001b[0mfiles\u001b[0m\u001b[0;34m)\u001b[0m\u001b[0;34m)\u001b[0m\u001b[0;34m\u001b[0m\u001b[0;34m\u001b[0m\u001b[0m\n\u001b[0;32m----> 3\u001b[0;31m \u001b[0mdf\u001b[0m \u001b[0;34m=\u001b[0m \u001b[0mpd\u001b[0m\u001b[0;34m.\u001b[0m\u001b[0mDataframe\u001b[0m\u001b[0;34m.\u001b[0m\u001b[0mfrom_records\u001b[0m\u001b[0;34m(\u001b[0m\u001b[0mfiles\u001b[0m\u001b[0;34m)\u001b[0m\u001b[0;34m\u001b[0m\u001b[0;34m\u001b[0m\u001b[0m\n\u001b[0m\u001b[1;32m      4\u001b[0m \u001b[0mpd\u001b[0m\u001b[0;34m.\u001b[0m\u001b[0mhead\u001b[0m\u001b[0;34m(\u001b[0m\u001b[0mdf\u001b[0m\u001b[0;34m)\u001b[0m\u001b[0;34m\u001b[0m\u001b[0;34m\u001b[0m\u001b[0m\n",
      "\u001b[0;32m~/development/helpo/env/lib/python3.7/site-packages/pandas/__init__.py\u001b[0m in \u001b[0;36m__getattr__\u001b[0;34m(name)\u001b[0m\n\u001b[1;32m    260\u001b[0m             \u001b[0;32mreturn\u001b[0m \u001b[0m_SparseArray\u001b[0m\u001b[0;34m\u001b[0m\u001b[0;34m\u001b[0m\u001b[0m\n\u001b[1;32m    261\u001b[0m \u001b[0;34m\u001b[0m\u001b[0m\n\u001b[0;32m--> 262\u001b[0;31m         \u001b[0;32mraise\u001b[0m \u001b[0mAttributeError\u001b[0m\u001b[0;34m(\u001b[0m\u001b[0;34mf\"module 'pandas' has no attribute '{name}'\"\u001b[0m\u001b[0;34m)\u001b[0m\u001b[0;34m\u001b[0m\u001b[0;34m\u001b[0m\u001b[0m\n\u001b[0m\u001b[1;32m    263\u001b[0m \u001b[0;34m\u001b[0m\u001b[0m\n\u001b[1;32m    264\u001b[0m \u001b[0;34m\u001b[0m\u001b[0m\n",
      "\u001b[0;31mAttributeError\u001b[0m: module 'pandas' has no attribute 'Dataframe'"
     ]
    }
   ],
   "source": [
    "# df = pd.Dataframe(list(files.items()),columns = ['id', 'name'])\n",
    "print(type(files))\n",
    "df = pd.Dataframe.from_records(files)\n",
    "pd.head(df)"
   ]
  },
  {
   "cell_type": "code",
   "execution_count": 2,
   "metadata": {},
   "outputs": [
    {
     "data": {
      "text/html": "<div>\n<style scoped>\n    .dataframe tbody tr th:only-of-type {\n        vertical-align: middle;\n    }\n\n    .dataframe tbody tr th {\n        vertical-align: top;\n    }\n\n    .dataframe thead th {\n        text-align: right;\n    }\n</style>\n<table border=\"1\" class=\"dataframe\">\n  <thead>\n    <tr style=\"text-align: right;\">\n      <th></th>\n      <th>test1</th>\n      <th>tes2</th>\n      <th>test3</th>\n    </tr>\n  </thead>\n  <tbody>\n    <tr>\n      <th>0</th>\n      <td>1</td>\n      <td>2</td>\n      <td>3</td>\n    </tr>\n    <tr>\n      <th>1</th>\n      <td>11</td>\n      <td>22</td>\n      <td>33</td>\n    </tr>\n    <tr>\n      <th>2</th>\n      <td>111</td>\n      <td>222</td>\n      <td>333</td>\n    </tr>\n  </tbody>\n</table>\n</div>",
      "text/plain": "   test1  tes2  test3\n0      1     2      3\n1     11    22     33\n2    111   222    333"
     },
     "execution_count": 2,
     "metadata": {},
     "output_type": "execute_result"
    }
   ],
   "source": [
    "scope = ['https://spreadsheets.google.com/feeds','https://www.googleapis.com/auth/drive']\n",
    "creds = ServiceAccountCredentials.from_json_keyfile_name('SA_sheet-write-access.json', scope)\n",
    "client = gspread.authorize(creds)\n",
    "\n",
    "sheet = client.open('Helpo-SIBS').sheet1\n",
    "\n",
    "data = sheet.get_all_records()\n",
    "sheet_df = pd.DataFrame(data)\n",
    "sheet_df.head()"
   ]
  },
  {
   "cell_type": "code",
   "execution_count": null,
   "metadata": {},
   "outputs": [],
   "source": []
  },
  {
   "cell_type": "code",
   "execution_count": 23,
   "metadata": {},
   "outputs": [
    {
     "ename": "FileNotFoundError",
     "evalue": "[Errno 2] No such file or directory: '202002040340.inp'",
     "output_type": "error",
     "traceback": [
      "\u001b[0;31m---------------------------------------------------------------------------\u001b[0m",
      "\u001b[0;31mFileNotFoundError\u001b[0m                         Traceback (most recent call last)",
      "\u001b[0;32m<ipython-input-23-351e7aa7e825>\u001b[0m in \u001b[0;36m<module>\u001b[0;34m\u001b[0m\n\u001b[1;32m      1\u001b[0m \u001b[0mwidths\u001b[0m \u001b[0;34m=\u001b[0m \u001b[0;34m[\u001b[0m\u001b[0;36m1\u001b[0m\u001b[0;34m,\u001b[0m \u001b[0;36m4\u001b[0m\u001b[0;34m,\u001b[0m \u001b[0;36m7\u001b[0m\u001b[0;34m,\u001b[0m \u001b[0;36m7\u001b[0m\u001b[0;34m,\u001b[0m \u001b[0;36m9\u001b[0m\u001b[0;34m,\u001b[0m \u001b[0;36m9\u001b[0m\u001b[0;34m,\u001b[0m \u001b[0;36m5\u001b[0m\u001b[0;34m,\u001b[0m \u001b[0;36m3\u001b[0m\u001b[0;34m,\u001b[0m \u001b[0;36m2\u001b[0m\u001b[0;34m,\u001b[0m \u001b[0;36m73\u001b[0m\u001b[0;34m]\u001b[0m\u001b[0;34m\u001b[0m\u001b[0;34m\u001b[0m\u001b[0m\n\u001b[1;32m      2\u001b[0m \u001b[0mheader\u001b[0m \u001b[0;34m=\u001b[0m \u001b[0;34m[\u001b[0m\u001b[0;34m'reg'\u001b[0m\u001b[0;34m,\u001b[0m \u001b[0;34m'type'\u001b[0m\u001b[0;34m,\u001b[0m \u001b[0;34m'IDori'\u001b[0m\u001b[0;34m,\u001b[0m \u001b[0;34m'IDdest'\u001b[0m\u001b[0;34m,\u001b[0m \u001b[0;34m'lastDate'\u001b[0m\u001b[0;34m,\u001b[0m \u001b[0;34m'IDlast'\u001b[0m\u001b[0;34m,\u001b[0m \u001b[0;34m'entity'\u001b[0m\u001b[0;34m,\u001b[0m \u001b[0;34m'coin'\u001b[0m\u001b[0;34m,\u001b[0m \u001b[0;34m'VAT'\u001b[0m\u001b[0;34m,\u001b[0m \u001b[0;34m'filler'\u001b[0m\u001b[0;34m]\u001b[0m\u001b[0;34m\u001b[0m\u001b[0;34m\u001b[0m\u001b[0m\n\u001b[0;32m----> 3\u001b[0;31m \u001b[0mfile_info\u001b[0m \u001b[0;34m=\u001b[0m \u001b[0mpd\u001b[0m\u001b[0;34m.\u001b[0m\u001b[0mread_fwf\u001b[0m\u001b[0;34m(\u001b[0m\u001b[0;34m'202002040340.inp'\u001b[0m\u001b[0;34m,\u001b[0m \u001b[0mwidths\u001b[0m\u001b[0;34m=\u001b[0m\u001b[0mwidths\u001b[0m\u001b[0;34m,\u001b[0m \u001b[0mnrows\u001b[0m\u001b[0;34m=\u001b[0m\u001b[0;36m1\u001b[0m\u001b[0;34m,\u001b[0m \u001b[0mheader\u001b[0m\u001b[0;34m=\u001b[0m\u001b[0;32mNone\u001b[0m\u001b[0;34m)\u001b[0m\u001b[0;34m\u001b[0m\u001b[0;34m\u001b[0m\u001b[0m\n\u001b[0m\u001b[1;32m      4\u001b[0m \u001b[0mfile_info\u001b[0m\u001b[0;34m.\u001b[0m\u001b[0mcolumns\u001b[0m \u001b[0;34m=\u001b[0m \u001b[0mheader\u001b[0m\u001b[0;34m\u001b[0m\u001b[0;34m\u001b[0m\u001b[0m\n\u001b[1;32m      5\u001b[0m \u001b[0mfile_info\u001b[0m\u001b[0;34m.\u001b[0m\u001b[0mhead\u001b[0m\u001b[0;34m(\u001b[0m\u001b[0;34m)\u001b[0m\u001b[0;34m\u001b[0m\u001b[0;34m\u001b[0m\u001b[0m\n",
      "\u001b[0;32m~/development/helpo/env/lib/python3.7/site-packages/pandas/io/parsers.py\u001b[0m in \u001b[0;36mread_fwf\u001b[0;34m(filepath_or_buffer, colspecs, widths, infer_nrows, **kwds)\u001b[0m\n\u001b[1;32m    780\u001b[0m     \u001b[0mkwds\u001b[0m\u001b[0;34m[\u001b[0m\u001b[0;34m\"infer_nrows\"\u001b[0m\u001b[0;34m]\u001b[0m \u001b[0;34m=\u001b[0m \u001b[0minfer_nrows\u001b[0m\u001b[0;34m\u001b[0m\u001b[0;34m\u001b[0m\u001b[0m\n\u001b[1;32m    781\u001b[0m     \u001b[0mkwds\u001b[0m\u001b[0;34m[\u001b[0m\u001b[0;34m\"engine\"\u001b[0m\u001b[0;34m]\u001b[0m \u001b[0;34m=\u001b[0m \u001b[0;34m\"python-fwf\"\u001b[0m\u001b[0;34m\u001b[0m\u001b[0;34m\u001b[0m\u001b[0m\n\u001b[0;32m--> 782\u001b[0;31m     \u001b[0;32mreturn\u001b[0m \u001b[0m_read\u001b[0m\u001b[0;34m(\u001b[0m\u001b[0mfilepath_or_buffer\u001b[0m\u001b[0;34m,\u001b[0m \u001b[0mkwds\u001b[0m\u001b[0;34m)\u001b[0m\u001b[0;34m\u001b[0m\u001b[0;34m\u001b[0m\u001b[0m\n\u001b[0m\u001b[1;32m    783\u001b[0m \u001b[0;34m\u001b[0m\u001b[0m\n\u001b[1;32m    784\u001b[0m \u001b[0;34m\u001b[0m\u001b[0m\n",
      "\u001b[0;32m~/development/helpo/env/lib/python3.7/site-packages/pandas/io/parsers.py\u001b[0m in \u001b[0;36m_read\u001b[0;34m(filepath_or_buffer, kwds)\u001b[0m\n\u001b[1;32m    446\u001b[0m \u001b[0;34m\u001b[0m\u001b[0m\n\u001b[1;32m    447\u001b[0m     \u001b[0;31m# Create the parser.\u001b[0m\u001b[0;34m\u001b[0m\u001b[0;34m\u001b[0m\u001b[0;34m\u001b[0m\u001b[0m\n\u001b[0;32m--> 448\u001b[0;31m     \u001b[0mparser\u001b[0m \u001b[0;34m=\u001b[0m \u001b[0mTextFileReader\u001b[0m\u001b[0;34m(\u001b[0m\u001b[0mfp_or_buf\u001b[0m\u001b[0;34m,\u001b[0m \u001b[0;34m**\u001b[0m\u001b[0mkwds\u001b[0m\u001b[0;34m)\u001b[0m\u001b[0;34m\u001b[0m\u001b[0;34m\u001b[0m\u001b[0m\n\u001b[0m\u001b[1;32m    449\u001b[0m \u001b[0;34m\u001b[0m\u001b[0m\n\u001b[1;32m    450\u001b[0m     \u001b[0;32mif\u001b[0m \u001b[0mchunksize\u001b[0m \u001b[0;32mor\u001b[0m \u001b[0miterator\u001b[0m\u001b[0;34m:\u001b[0m\u001b[0;34m\u001b[0m\u001b[0;34m\u001b[0m\u001b[0m\n",
      "\u001b[0;32m~/development/helpo/env/lib/python3.7/site-packages/pandas/io/parsers.py\u001b[0m in \u001b[0;36m__init__\u001b[0;34m(self, f, engine, **kwds)\u001b[0m\n\u001b[1;32m    878\u001b[0m             \u001b[0mself\u001b[0m\u001b[0;34m.\u001b[0m\u001b[0moptions\u001b[0m\u001b[0;34m[\u001b[0m\u001b[0;34m\"has_index_names\"\u001b[0m\u001b[0;34m]\u001b[0m \u001b[0;34m=\u001b[0m \u001b[0mkwds\u001b[0m\u001b[0;34m[\u001b[0m\u001b[0;34m\"has_index_names\"\u001b[0m\u001b[0;34m]\u001b[0m\u001b[0;34m\u001b[0m\u001b[0;34m\u001b[0m\u001b[0m\n\u001b[1;32m    879\u001b[0m \u001b[0;34m\u001b[0m\u001b[0m\n\u001b[0;32m--> 880\u001b[0;31m         \u001b[0mself\u001b[0m\u001b[0;34m.\u001b[0m\u001b[0m_make_engine\u001b[0m\u001b[0;34m(\u001b[0m\u001b[0mself\u001b[0m\u001b[0;34m.\u001b[0m\u001b[0mengine\u001b[0m\u001b[0;34m)\u001b[0m\u001b[0;34m\u001b[0m\u001b[0;34m\u001b[0m\u001b[0m\n\u001b[0m\u001b[1;32m    881\u001b[0m \u001b[0;34m\u001b[0m\u001b[0m\n\u001b[1;32m    882\u001b[0m     \u001b[0;32mdef\u001b[0m \u001b[0mclose\u001b[0m\u001b[0;34m(\u001b[0m\u001b[0mself\u001b[0m\u001b[0;34m)\u001b[0m\u001b[0;34m:\u001b[0m\u001b[0;34m\u001b[0m\u001b[0;34m\u001b[0m\u001b[0m\n",
      "\u001b[0;32m~/development/helpo/env/lib/python3.7/site-packages/pandas/io/parsers.py\u001b[0m in \u001b[0;36m_make_engine\u001b[0;34m(self, engine)\u001b[0m\n\u001b[1;32m   1124\u001b[0m                     \u001b[0;34m'\"python-fwf\")'\u001b[0m\u001b[0;34m\u001b[0m\u001b[0;34m\u001b[0m\u001b[0m\n\u001b[1;32m   1125\u001b[0m                 )\n\u001b[0;32m-> 1126\u001b[0;31m             \u001b[0mself\u001b[0m\u001b[0;34m.\u001b[0m\u001b[0m_engine\u001b[0m \u001b[0;34m=\u001b[0m \u001b[0mklass\u001b[0m\u001b[0;34m(\u001b[0m\u001b[0mself\u001b[0m\u001b[0;34m.\u001b[0m\u001b[0mf\u001b[0m\u001b[0;34m,\u001b[0m \u001b[0;34m**\u001b[0m\u001b[0mself\u001b[0m\u001b[0;34m.\u001b[0m\u001b[0moptions\u001b[0m\u001b[0;34m)\u001b[0m\u001b[0;34m\u001b[0m\u001b[0;34m\u001b[0m\u001b[0m\n\u001b[0m\u001b[1;32m   1127\u001b[0m \u001b[0;34m\u001b[0m\u001b[0m\n\u001b[1;32m   1128\u001b[0m     \u001b[0;32mdef\u001b[0m \u001b[0m_failover_to_python\u001b[0m\u001b[0;34m(\u001b[0m\u001b[0mself\u001b[0m\u001b[0;34m)\u001b[0m\u001b[0;34m:\u001b[0m\u001b[0;34m\u001b[0m\u001b[0;34m\u001b[0m\u001b[0m\n",
      "\u001b[0;32m~/development/helpo/env/lib/python3.7/site-packages/pandas/io/parsers.py\u001b[0m in \u001b[0;36m__init__\u001b[0;34m(self, f, **kwds)\u001b[0m\n\u001b[1;32m   3659\u001b[0m         \u001b[0mself\u001b[0m\u001b[0;34m.\u001b[0m\u001b[0mcolspecs\u001b[0m \u001b[0;34m=\u001b[0m \u001b[0mkwds\u001b[0m\u001b[0;34m.\u001b[0m\u001b[0mpop\u001b[0m\u001b[0;34m(\u001b[0m\u001b[0;34m\"colspecs\"\u001b[0m\u001b[0;34m)\u001b[0m\u001b[0;34m\u001b[0m\u001b[0;34m\u001b[0m\u001b[0m\n\u001b[1;32m   3660\u001b[0m         \u001b[0mself\u001b[0m\u001b[0;34m.\u001b[0m\u001b[0minfer_nrows\u001b[0m \u001b[0;34m=\u001b[0m \u001b[0mkwds\u001b[0m\u001b[0;34m.\u001b[0m\u001b[0mpop\u001b[0m\u001b[0;34m(\u001b[0m\u001b[0;34m\"infer_nrows\"\u001b[0m\u001b[0;34m)\u001b[0m\u001b[0;34m\u001b[0m\u001b[0;34m\u001b[0m\u001b[0m\n\u001b[0;32m-> 3661\u001b[0;31m         \u001b[0mPythonParser\u001b[0m\u001b[0;34m.\u001b[0m\u001b[0m__init__\u001b[0m\u001b[0;34m(\u001b[0m\u001b[0mself\u001b[0m\u001b[0;34m,\u001b[0m \u001b[0mf\u001b[0m\u001b[0;34m,\u001b[0m \u001b[0;34m**\u001b[0m\u001b[0mkwds\u001b[0m\u001b[0;34m)\u001b[0m\u001b[0;34m\u001b[0m\u001b[0;34m\u001b[0m\u001b[0m\n\u001b[0m\u001b[1;32m   3662\u001b[0m \u001b[0;34m\u001b[0m\u001b[0m\n\u001b[1;32m   3663\u001b[0m     \u001b[0;32mdef\u001b[0m \u001b[0m_make_reader\u001b[0m\u001b[0;34m(\u001b[0m\u001b[0mself\u001b[0m\u001b[0;34m,\u001b[0m \u001b[0mf\u001b[0m\u001b[0;34m)\u001b[0m\u001b[0;34m:\u001b[0m\u001b[0;34m\u001b[0m\u001b[0;34m\u001b[0m\u001b[0m\n",
      "\u001b[0;32m~/development/helpo/env/lib/python3.7/site-packages/pandas/io/parsers.py\u001b[0m in \u001b[0;36m__init__\u001b[0;34m(self, f, **kwds)\u001b[0m\n\u001b[1;32m   2267\u001b[0m             \u001b[0mencoding\u001b[0m\u001b[0;34m=\u001b[0m\u001b[0mself\u001b[0m\u001b[0;34m.\u001b[0m\u001b[0mencoding\u001b[0m\u001b[0;34m,\u001b[0m\u001b[0;34m\u001b[0m\u001b[0;34m\u001b[0m\u001b[0m\n\u001b[1;32m   2268\u001b[0m             \u001b[0mcompression\u001b[0m\u001b[0;34m=\u001b[0m\u001b[0mself\u001b[0m\u001b[0;34m.\u001b[0m\u001b[0mcompression\u001b[0m\u001b[0;34m,\u001b[0m\u001b[0;34m\u001b[0m\u001b[0;34m\u001b[0m\u001b[0m\n\u001b[0;32m-> 2269\u001b[0;31m             \u001b[0mmemory_map\u001b[0m\u001b[0;34m=\u001b[0m\u001b[0mself\u001b[0m\u001b[0;34m.\u001b[0m\u001b[0mmemory_map\u001b[0m\u001b[0;34m,\u001b[0m\u001b[0;34m\u001b[0m\u001b[0;34m\u001b[0m\u001b[0m\n\u001b[0m\u001b[1;32m   2270\u001b[0m         )\n\u001b[1;32m   2271\u001b[0m         \u001b[0mself\u001b[0m\u001b[0;34m.\u001b[0m\u001b[0mhandles\u001b[0m\u001b[0;34m.\u001b[0m\u001b[0mextend\u001b[0m\u001b[0;34m(\u001b[0m\u001b[0mhandles\u001b[0m\u001b[0;34m)\u001b[0m\u001b[0;34m\u001b[0m\u001b[0;34m\u001b[0m\u001b[0m\n",
      "\u001b[0;32m~/development/helpo/env/lib/python3.7/site-packages/pandas/io/common.py\u001b[0m in \u001b[0;36mget_handle\u001b[0;34m(path_or_buf, mode, encoding, compression, memory_map, is_text)\u001b[0m\n\u001b[1;32m    429\u001b[0m         \u001b[0;32melif\u001b[0m \u001b[0mis_text\u001b[0m\u001b[0;34m:\u001b[0m\u001b[0;34m\u001b[0m\u001b[0;34m\u001b[0m\u001b[0m\n\u001b[1;32m    430\u001b[0m             \u001b[0;31m# No explicit encoding\u001b[0m\u001b[0;34m\u001b[0m\u001b[0;34m\u001b[0m\u001b[0;34m\u001b[0m\u001b[0m\n\u001b[0;32m--> 431\u001b[0;31m             \u001b[0mf\u001b[0m \u001b[0;34m=\u001b[0m \u001b[0mopen\u001b[0m\u001b[0;34m(\u001b[0m\u001b[0mpath_or_buf\u001b[0m\u001b[0;34m,\u001b[0m \u001b[0mmode\u001b[0m\u001b[0;34m,\u001b[0m \u001b[0merrors\u001b[0m\u001b[0;34m=\u001b[0m\u001b[0;34m\"replace\"\u001b[0m\u001b[0;34m,\u001b[0m \u001b[0mnewline\u001b[0m\u001b[0;34m=\u001b[0m\u001b[0;34m\"\"\u001b[0m\u001b[0;34m)\u001b[0m\u001b[0;34m\u001b[0m\u001b[0;34m\u001b[0m\u001b[0m\n\u001b[0m\u001b[1;32m    432\u001b[0m         \u001b[0;32melse\u001b[0m\u001b[0;34m:\u001b[0m\u001b[0;34m\u001b[0m\u001b[0;34m\u001b[0m\u001b[0m\n\u001b[1;32m    433\u001b[0m             \u001b[0;31m# Binary mode\u001b[0m\u001b[0;34m\u001b[0m\u001b[0;34m\u001b[0m\u001b[0;34m\u001b[0m\u001b[0m\n",
      "\u001b[0;31mFileNotFoundError\u001b[0m: [Errno 2] No such file or directory: '202002040340.inp'"
     ]
    }
   ],
   "source": [
    "widths = [1, 4, 7, 7, 9, 9, 5, 3, 2, 73]\n",
    "header = ['reg', 'type', 'IDori', 'IDdest', 'lastDate', 'IDlast', 'entity', 'coin', 'VAT', 'filler']\n",
    "file_info = pd.read_fwf('202002040340.inp', widths=widths, nrows=1, header=None) \n",
    "file_info.columns = header\n",
    "file_info.head()\n",
    ""
   ]
  },
  {
   "cell_type": "code",
   "execution_count": 253,
   "metadata": {},
   "outputs": [],
   "source": [
    "widths = [1,2,1,4,8,12,1,10,5,15,10,5, 9, 9, 8, 1, 1, 12, 6]\n",
    "header = ['reg', 'cod', 'PDD', 'IdSIBS', 'numSIBS','date', 'typeT', 'idT', 'idTrans', 'LocT', 'value', 'tarif', 'refMB', 'NIF', 'nFact', 'modCom', 'CodEmp', 'RespID', 'filler']\n",
    "df = pd.read_fwf('2020020403dsdfd40.inp', widths=widths, skipfooter=1) \n",
    "df.columns = header\n"
   ]
  },
  {
   "cell_type": "code",
   "execution_count": 254,
   "metadata": {},
   "outputs": [],
   "source": [
    "df['date']= pd.to_duu"
   ]
  },
  {
   "cell_type": "code",
   "execution_count": 258,
   "metadata": {},
   "outputs": [
    {
     "data": {
      "text/html": [
       "<div>\n",
       "<style scoped>\n",
       "    .dataframe tbody tr th:only-of-type {\n",
       "        vertical-align: middle;\n",
       "    }\n",
       "\n",
       "    .dataframe tbody tr th {\n",
       "        vertical-align: top;\n",
       "    }\n",
       "\n",
       "    .dataframe thead th {\n",
       "        text-align: right;\n",
       "    }\n",
       "</style>\n",
       "<table border=\"1\" class=\"dataframe\">\n",
       "  <thead>\n",
       "    <tr style=\"text-align: right;\">\n",
       "      <th></th>\n",
       "      <th>reg</th>\n",
       "      <th>cod</th>\n",
       "      <th>PDD</th>\n",
       "      <th>IdSIBS</th>\n",
       "      <th>numSIBS</th>\n",
       "      <th>date</th>\n",
       "      <th>typeT</th>\n",
       "      <th>idT</th>\n",
       "      <th>idTrans</th>\n",
       "      <th>LocT</th>\n",
       "      <th>value</th>\n",
       "      <th>tarif</th>\n",
       "      <th>refMB</th>\n",
       "      <th>NIF</th>\n",
       "      <th>nFact</th>\n",
       "      <th>modCom</th>\n",
       "      <th>CodEmp</th>\n",
       "      <th>RespID</th>\n",
       "      <th>filler</th>\n",
       "    </tr>\n",
       "  </thead>\n",
       "  <tbody>\n",
       "    <tr>\n",
       "      <th>0</th>\n",
       "      <td>1</td>\n",
       "      <td>4</td>\n",
       "      <td>2</td>\n",
       "      <td>460</td>\n",
       "      <td>363385</td>\n",
       "      <td>2020-02-04 08:37:00</td>\n",
       "      <td>P</td>\n",
       "      <td>0</td>\n",
       "      <td>0</td>\n",
       "      <td>MBWAY</td>\n",
       "      <td>200</td>\n",
       "      <td>0</td>\n",
       "      <td>111111111</td>\n",
       "      <td>240571215</td>\n",
       "      <td>41</td>\n",
       "      <td>0</td>\n",
       "      <td>0</td>\n",
       "      <td>NaN</td>\n",
       "      <td>NaN</td>\n",
       "    </tr>\n",
       "    <tr>\n",
       "      <th>1</th>\n",
       "      <td>1</td>\n",
       "      <td>4</td>\n",
       "      <td>2</td>\n",
       "      <td>461</td>\n",
       "      <td>663982</td>\n",
       "      <td>2020-02-04 15:53:00</td>\n",
       "      <td>P</td>\n",
       "      <td>0</td>\n",
       "      <td>0</td>\n",
       "      <td>MBWAY</td>\n",
       "      <td>1000</td>\n",
       "      <td>0</td>\n",
       "      <td>111111111</td>\n",
       "      <td>0</td>\n",
       "      <td>42</td>\n",
       "      <td>0</td>\n",
       "      <td>0</td>\n",
       "      <td>NaN</td>\n",
       "      <td>NaN</td>\n",
       "    </tr>\n",
       "  </tbody>\n",
       "</table>\n",
       "</div>"
      ],
      "text/plain": [
       "   reg  cod  PDD  IdSIBS  numSIBS                date typeT  idT  idTrans  \\\n",
       "0    1    4    2     460   363385 2020-02-04 08:37:00     P    0        0   \n",
       "1    1    4    2     461   663982 2020-02-04 15:53:00     P    0        0   \n",
       "\n",
       "    LocT  value  tarif      refMB        NIF  nFact  modCom  CodEmp  RespID  \\\n",
       "0  MBWAY    200      0  111111111  240571215     41       0       0     NaN   \n",
       "1  MBWAY   1000      0  111111111          0     42       0       0     NaN   \n",
       "\n",
       "   filler  \n",
       "0     NaN  \n",
       "1     NaN  "
      ]
     },
     "execution_count": 258,
     "metadata": {},
     "output_type": "execute_result"
    }
   ],
   "source": [
    "df.head()"
   ]
  },
  {
   "cell_type": "code",
   "execution_count": 259,
   "metadata": {},
   "outputs": [],
   "source": [
    "excelFrame = df[['date', 'NIF', 'value', 'LocT']]"
   ]
  },
  {
   "cell_type": "code",
   "execution_count": 262,
   "metadata": {},
   "outputs": [
    {
     "data": {
      "text/html": [
       "<div>\n",
       "<style scoped>\n",
       "    .dataframe tbody tr th:only-of-type {\n",
       "        vertical-align: middle;\n",
       "    }\n",
       "\n",
       "    .dataframe tbody tr th {\n",
       "        vertical-align: top;\n",
       "    }\n",
       "\n",
       "    .dataframe thead th {\n",
       "        text-align: right;\n",
       "    }\n",
       "</style>\n",
       "<table border=\"1\" class=\"dataframe\">\n",
       "  <thead>\n",
       "    <tr style=\"text-align: right;\">\n",
       "      <th></th>\n",
       "      <th>date</th>\n",
       "      <th>NIF</th>\n",
       "      <th>value</th>\n",
       "      <th>LocT</th>\n",
       "    </tr>\n",
       "  </thead>\n",
       "  <tbody>\n",
       "    <tr>\n",
       "      <th>0</th>\n",
       "      <td>2020-02-04 08:37:00</td>\n",
       "      <td>240571215</td>\n",
       "      <td>200</td>\n",
       "      <td>MBWAY</td>\n",
       "    </tr>\n",
       "    <tr>\n",
       "      <th>1</th>\n",
       "      <td>2020-02-04 15:53:00</td>\n",
       "      <td>0</td>\n",
       "      <td>1000</td>\n",
       "      <td>MBWAY</td>\n",
       "    </tr>\n",
       "  </tbody>\n",
       "</table>\n",
       "</div>"
      ],
      "text/plain": [
       "                 date        NIF  value   LocT\n",
       "0 2020-02-04 08:37:00  240571215    200  MBWAY\n",
       "1 2020-02-04 15:53:00          0   1000  MBWAY"
      ]
     },
     "execution_count": 262,
     "metadata": {},
     "output_type": "execute_result"
    }
   ],
   "source": [
    "excelFrame.head()"
   ]
  },
  {
   "cell_type": "code",
   "execution_count": 264,
   "metadata": {},
   "outputs": [],
   "source": [
    "writer = ExcelWriter('SIBS_exporter.xlsx')\n",
    "excelFrame.to_excel(writer,'test')\n",
    "writer.save()"
   ]
  }
 ],
 "metadata": {
  "kernelspec": {
   "display_name": "Python 3",
   "language": "python",
   "name": "python3"
  },
  "language_info": {
   "codemirror_mode": {
    "name": "ipython",
    "version": 3
   },
   "file_extension": ".py",
   "mimetype": "text/x-python",
   "name": "python",
   "nbconvert_exporter": "python",
   "pygments_lexer": "ipython3",
   "version": "3.7.6-final"
  }
 },
 "nbformat": 4,
 "nbformat_minor": 4
}