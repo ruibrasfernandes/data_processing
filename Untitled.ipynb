{
 "cells": [
  {
   "cell_type": "code",
   "execution_count": 269,
   "metadata": {},
   "outputs": [],
   "source": [
    "import pandas as pd\n",
    "from datetime import datetime\n",
    "from pandas import ExcelWriter\n"
   ]
  },
  {
   "cell_type": "code",
   "execution_count": 271,
   "metadata": {},
   "outputs": [
    {
     "data": {
      "text/html": [
       "<div>\n",
       "<style scoped>\n",
       "    .dataframe tbody tr th:only-of-type {\n",
       "        vertical-align: middle;\n",
       "    }\n",
       "\n",
       "    .dataframe tbody tr th {\n",
       "        vertical-align: top;\n",
       "    }\n",
       "\n",
       "    .dataframe thead th {\n",
       "        text-align: right;\n",
       "    }\n",
       "</style>\n",
       "<table border=\"1\" class=\"dataframe\">\n",
       "  <thead>\n",
       "    <tr style=\"text-align: right;\">\n",
       "      <th></th>\n",
       "      <th>reg</th>\n",
       "      <th>type</th>\n",
       "      <th>IDori</th>\n",
       "      <th>IDdest</th>\n",
       "      <th>lastDate</th>\n",
       "      <th>IDlast</th>\n",
       "      <th>entity</th>\n",
       "      <th>coin</th>\n",
       "      <th>VAT</th>\n",
       "      <th>filler</th>\n",
       "    </tr>\n",
       "  </thead>\n",
       "  <tbody>\n",
       "    <tr>\n",
       "      <th>0</th>\n",
       "      <td>0</td>\n",
       "      <td>MSTM</td>\n",
       "      <td>1</td>\n",
       "      <td>334221</td>\n",
       "      <td>202002041</td>\n",
       "      <td>202002031</td>\n",
       "      <td>10004</td>\n",
       "      <td>978</td>\n",
       "      <td>23</td>\n",
       "      <td>NaN</td>\n",
       "    </tr>\n",
       "  </tbody>\n",
       "</table>\n",
       "</div>"
      ],
      "text/plain": [
       "   reg  type  IDori  IDdest   lastDate     IDlast  entity  coin  VAT  filler\n",
       "0    0  MSTM      1  334221  202002041  202002031   10004   978   23     NaN"
      ]
     },
     "execution_count": 271,
     "metadata": {},
     "output_type": "execute_result"
    }
   ],
   "source": [
    "widths = [1, 4, 7, 7, 9, 9, 5, 3, 2, 73]\n",
    "header = ['reg', 'type', 'IDori', 'IDdest', 'lastDate', 'IDlast', 'entity', 'coin', 'VAT', 'filler']\n",
    "file_info = pd.read_fwf('202002040340.inp', widths=widths, nrows=1, header=None) \n",
    "file_info.columns = header\n",
    "file_info.head()\n"
   ]
  },
  {
   "cell_type": "code",
   "execution_count": 253,
   "metadata": {},
   "outputs": [],
   "source": [
    "widths = [1,2,1,4,8,12,1,10,5,15,10,5, 9, 9, 8, 1, 1, 12, 6]\n",
    "header = ['reg', 'cod', 'PDD', 'IdSIBS', 'numSIBS','date', 'typeT', 'idT', 'idTrans', 'LocT', 'value', 'tarif', 'refMB', 'NIF', 'nFact', 'modCom', 'CodEmp', 'RespID', 'filler']\n",
    "df = pd.read_fwf('202002040340.inp', widths=widths, skipfooter=1) \n",
    "df.columns = header\n"
   ]
  },
  {
   "cell_type": "code",
   "execution_count": 254,
   "metadata": {},
   "outputs": [],
   "source": [
    "df['date']= pd.to_datetime(df['date'], format='%Y%m%d%H%M')"
   ]
  },
  {
   "cell_type": "code",
   "execution_count": 258,
   "metadata": {},
   "outputs": [
    {
     "data": {
      "text/html": [
       "<div>\n",
       "<style scoped>\n",
       "    .dataframe tbody tr th:only-of-type {\n",
       "        vertical-align: middle;\n",
       "    }\n",
       "\n",
       "    .dataframe tbody tr th {\n",
       "        vertical-align: top;\n",
       "    }\n",
       "\n",
       "    .dataframe thead th {\n",
       "        text-align: right;\n",
       "    }\n",
       "</style>\n",
       "<table border=\"1\" class=\"dataframe\">\n",
       "  <thead>\n",
       "    <tr style=\"text-align: right;\">\n",
       "      <th></th>\n",
       "      <th>reg</th>\n",
       "      <th>cod</th>\n",
       "      <th>PDD</th>\n",
       "      <th>IdSIBS</th>\n",
       "      <th>numSIBS</th>\n",
       "      <th>date</th>\n",
       "      <th>typeT</th>\n",
       "      <th>idT</th>\n",
       "      <th>idTrans</th>\n",
       "      <th>LocT</th>\n",
       "      <th>value</th>\n",
       "      <th>tarif</th>\n",
       "      <th>refMB</th>\n",
       "      <th>NIF</th>\n",
       "      <th>nFact</th>\n",
       "      <th>modCom</th>\n",
       "      <th>CodEmp</th>\n",
       "      <th>RespID</th>\n",
       "      <th>filler</th>\n",
       "    </tr>\n",
       "  </thead>\n",
       "  <tbody>\n",
       "    <tr>\n",
       "      <th>0</th>\n",
       "      <td>1</td>\n",
       "      <td>4</td>\n",
       "      <td>2</td>\n",
       "      <td>460</td>\n",
       "      <td>363385</td>\n",
       "      <td>2020-02-04 08:37:00</td>\n",
       "      <td>P</td>\n",
       "      <td>0</td>\n",
       "      <td>0</td>\n",
       "      <td>MBWAY</td>\n",
       "      <td>200</td>\n",
       "      <td>0</td>\n",
       "      <td>111111111</td>\n",
       "      <td>240571215</td>\n",
       "      <td>41</td>\n",
       "      <td>0</td>\n",
       "      <td>0</td>\n",
       "      <td>NaN</td>\n",
       "      <td>NaN</td>\n",
       "    </tr>\n",
       "    <tr>\n",
       "      <th>1</th>\n",
       "      <td>1</td>\n",
       "      <td>4</td>\n",
       "      <td>2</td>\n",
       "      <td>461</td>\n",
       "      <td>663982</td>\n",
       "      <td>2020-02-04 15:53:00</td>\n",
       "      <td>P</td>\n",
       "      <td>0</td>\n",
       "      <td>0</td>\n",
       "      <td>MBWAY</td>\n",
       "      <td>1000</td>\n",
       "      <td>0</td>\n",
       "      <td>111111111</td>\n",
       "      <td>0</td>\n",
       "      <td>42</td>\n",
       "      <td>0</td>\n",
       "      <td>0</td>\n",
       "      <td>NaN</td>\n",
       "      <td>NaN</td>\n",
       "    </tr>\n",
       "  </tbody>\n",
       "</table>\n",
       "</div>"
      ],
      "text/plain": [
       "   reg  cod  PDD  IdSIBS  numSIBS                date typeT  idT  idTrans  \\\n",
       "0    1    4    2     460   363385 2020-02-04 08:37:00     P    0        0   \n",
       "1    1    4    2     461   663982 2020-02-04 15:53:00     P    0        0   \n",
       "\n",
       "    LocT  value  tarif      refMB        NIF  nFact  modCom  CodEmp  RespID  \\\n",
       "0  MBWAY    200      0  111111111  240571215     41       0       0     NaN   \n",
       "1  MBWAY   1000      0  111111111          0     42       0       0     NaN   \n",
       "\n",
       "   filler  \n",
       "0     NaN  \n",
       "1     NaN  "
      ]
     },
     "execution_count": 258,
     "metadata": {},
     "output_type": "execute_result"
    }
   ],
   "source": [
    "df.head()"
   ]
  },
  {
   "cell_type": "code",
   "execution_count": 259,
   "metadata": {},
   "outputs": [],
   "source": [
    "excelFrame = df[['date', 'NIF', 'value', 'LocT']]"
   ]
  },
  {
   "cell_type": "code",
   "execution_count": 262,
   "metadata": {},
   "outputs": [
    {
     "data": {
      "text/html": [
       "<div>\n",
       "<style scoped>\n",
       "    .dataframe tbody tr th:only-of-type {\n",
       "        vertical-align: middle;\n",
       "    }\n",
       "\n",
       "    .dataframe tbody tr th {\n",
       "        vertical-align: top;\n",
       "    }\n",
       "\n",
       "    .dataframe thead th {\n",
       "        text-align: right;\n",
       "    }\n",
       "</style>\n",
       "<table border=\"1\" class=\"dataframe\">\n",
       "  <thead>\n",
       "    <tr style=\"text-align: right;\">\n",
       "      <th></th>\n",
       "      <th>date</th>\n",
       "      <th>NIF</th>\n",
       "      <th>value</th>\n",
       "      <th>LocT</th>\n",
       "    </tr>\n",
       "  </thead>\n",
       "  <tbody>\n",
       "    <tr>\n",
       "      <th>0</th>\n",
       "      <td>2020-02-04 08:37:00</td>\n",
       "      <td>240571215</td>\n",
       "      <td>200</td>\n",
       "      <td>MBWAY</td>\n",
       "    </tr>\n",
       "    <tr>\n",
       "      <th>1</th>\n",
       "      <td>2020-02-04 15:53:00</td>\n",
       "      <td>0</td>\n",
       "      <td>1000</td>\n",
       "      <td>MBWAY</td>\n",
       "    </tr>\n",
       "  </tbody>\n",
       "</table>\n",
       "</div>"
      ],
      "text/plain": [
       "                 date        NIF  value   LocT\n",
       "0 2020-02-04 08:37:00  240571215    200  MBWAY\n",
       "1 2020-02-04 15:53:00          0   1000  MBWAY"
      ]
     },
     "execution_count": 262,
     "metadata": {},
     "output_type": "execute_result"
    }
   ],
   "source": [
    "excelFrame.head()"
   ]
  },
  {
   "cell_type": "code",
   "execution_count": 264,
   "metadata": {},
   "outputs": [],
   "source": [
    "writer = ExcelWriter('SIBS_exporter.xlsx')\n",
    "excelFrame.to_excel(writer,'test')\n",
    "writer.save()"
   ]
  },
  {
   "cell_type": "code",
   "execution_count": null,
   "metadata": {},
   "outputs": [],
   "source": []
  }
 ],
 "metadata": {
  "kernelspec": {
   "display_name": "Python 3",
   "language": "python",
   "name": "python3"
  },
  "language_info": {
   "codemirror_mode": {
    "name": "ipython",
    "version": 3
   },
   "file_extension": ".py",
   "mimetype": "text/x-python",
   "name": "python",
   "nbconvert_exporter": "python",
   "pygments_lexer": "ipython3",
   "version": "3.7.6"
  }
 },
 "nbformat": 4,
 "nbformat_minor": 4
}
